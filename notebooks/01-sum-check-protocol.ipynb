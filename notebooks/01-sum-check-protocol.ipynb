{
 "cells": [
  {
   "cell_type": "markdown",
   "id": "156ad44d",
   "metadata": {},
   "source": [
    "# Sum-check protocol"
   ]
  },
  {
   "cell_type": "markdown",
   "id": "5d077c87",
   "metadata": {},
   "source": [
    "<a id='contents'></a>\n",
    "## Contents\n",
    "\n",
    "* [Introduction](#introduction)"
   ]
  },
  {
   "cell_type": "markdown",
   "id": "f835aa63",
   "metadata": {},
   "source": [
    "<a id='introduction'></a>\n",
    "## Introduction\n",
    "↑↑ [Contents](#contents) ↓ [...](#...)"
   ]
  },
  {
   "cell_type": "markdown",
   "id": "9e52d2b2",
   "metadata": {},
   "source": [
    "<a id='...'></a>\n",
    "## ...\n",
    "↑↑ [Contents](#contents) ↑ [Introduction](#introduction) ↓ [...](#...)"
   ]
  },
  {
   "cell_type": "code",
   "execution_count": 1,
   "id": "febd6124",
   "metadata": {},
   "outputs": [
    {
     "name": "stdout",
     "output_type": "stream",
     "text": [
      "\n",
      "===========================\n",
      "PROJECT DIRECTORY STRUCTURE\n",
      "===========================\n",
      "\n",
      "├─ scripts/\n",
      "├─ notebooks/\n",
      "\n",
      "\n",
      "============================================================================\n",
      "PATHS TO FIRST-LEVEL SUBDIRECTORIES CONVENIENTLY STORED IN 'PATH' DICTIONARY\n",
      "============================================================================\n",
      "\n",
      "path['scripts'] = F:\\projects\\zero-knowledge\\scripts\n",
      "path['notebooks'] = F:\\projects\\zero-knowledge\\notebooks\n"
     ]
    }
   ],
   "source": [
    "from pathlib import Path\n",
    "import os\n",
    "import sys\n",
    "\n",
    "# Determine the project root directory and add it to the Python path\n",
    "notebook_path = Path(os.getcwd()).resolve()  # Path to the current working directory\n",
    "project_root = notebook_path.parent          # Parent directory of notebooks, which is the project root\n",
    "\n",
    "# Add the project root directory to the Python path\n",
    "sys.path.append(str(project_root))\n",
    "\n",
    "# The setup module is project_root/scripts/prjct_setup.py\n",
    "from scripts.setup import *"
   ]
  },
  {
   "cell_type": "code",
   "execution_count": 4,
   "id": "c007f4b4-d2b2-43a1-a981-0b3e5fea6f45",
   "metadata": {},
   "outputs": [
    {
     "name": "stdin",
     "output_type": "stream",
     "text": [
      "Enter a prime: 331\n",
      "Enter your polynomial (e.g. 2*X_0**2 + X_0*X_1*X_2 + X_1*X_4**3 + X_1 + X_3): 2*X_0**2 + X_0*X_1*X_2 + X_1*X_4**3 + X_1 + X_3\n",
      "Do you want this to be interactive? (y/n) n\n"
     ]
    },
    {
     "name": "stdout",
     "output_type": "stream",
     "text": [
      "\n",
      "=======\n",
      "ROUND 0\n",
      "=======\n",
      "\n",
      "\n",
      "P sends the following univariate polynomial to V:\n",
      "\n",
      "g_0(X_0) = sum g(X_0, b_1, b_2, b_3, b_4) over b_1, b_2, b_3, b_4 in {0,1}^4\n",
      "         = 32*X_0**2 + 4*X_0 + 20\n",
      "\n",
      "V checks that H = g_0(0) + g_0(1), where H is sum of g(b_0, b_1, b_2, b_3, b_4) over b_0, b_1, b_2, b_3, b_4 in {0,1}^5, according to P.\n",
      "\n",
      "              H = 76\n",
      "g_0(0) + g_0(1) = 76\n",
      "\n",
      "CHECK PASSED\n",
      "\n",
      "=======\n",
      "ROUND 1\n",
      "=======\n",
      "\n",
      "V sends 178, chosen uniformly at random from F, independently of any previous choices, to P.\n",
      "\n",
      "P sends the following univariate polynomial to V:\n",
      "\n",
      "g_1(X_1) = sum g(178, X_1, b_2, b_3, b_4) over b_2, b_3, b_4 in {0,1}^3\n",
      "         = 62*X_1 - 144\n",
      "\n",
      "V compares two most recent polynomials by checking that g_0(178) = g_1(0) + g_1(1):\n",
      "\n",
      "       g_0(178) = 105\n",
      "g_1(0) + g_1(1) = 105\n",
      "\n",
      "CHECK PASSED\n",
      "\n",
      "=======\n",
      "ROUND 2\n",
      "=======\n",
      "\n",
      "V sends 158, chosen uniformly at random from F, independently of any previous choices, to P.\n",
      "\n",
      "P sends the following univariate polynomial to V:\n",
      "\n",
      "g_2(X_2) = sum g(178, 158, X_2, b_3, b_4) over b_3, b_4 in {0,1}^2\n",
      "         = -44*X_2 - 117\n",
      "\n",
      "V compares two most recent polynomials by checking that g_1(158) = g_2(0) + g_2(1):\n",
      "\n",
      "       g_1(158) = 53\n",
      "g_2(0) + g_2(1) = 53\n",
      "\n",
      "CHECK PASSED\n",
      "\n",
      "=======\n",
      "ROUND 3\n",
      "=======\n",
      "\n",
      "V sends 124, chosen uniformly at random from F, independently of any previous choices, to P.\n",
      "\n",
      "P sends the following univariate polynomial to V:\n",
      "\n",
      "g_3(X_3) = sum g(178, 158, 124, X_3, b_4) over b_4 in {0,1}^1\n",
      "         = 2*X_3 + 26\n",
      "\n",
      "V compares two most recent polynomials by checking that g_2(124) = g_3(0) + g_3(1):\n",
      "\n",
      "       g_2(124) = 54\n",
      "g_3(0) + g_3(1) = 54\n",
      "\n",
      "CHECK PASSED\n",
      "\n",
      "=======\n",
      "ROUND 4\n",
      "=======\n",
      "\n",
      "V sends 257, chosen uniformly at random from F, independently of any previous choices, to P.\n",
      "\n",
      "P sends the following univariate polynomial to V:\n",
      "\n",
      "g_4(X_4) = g(178, 158, 124, 257, X_4)\n",
      "         = 158*X_4**3 - 140\n",
      "\n",
      "V compares two most recent polynomials by checking that g_3(257) = g_4(0) + g_4(1):\n",
      "\n",
      "       g_3(257) = 209\n",
      "g_4(0) + g_4(1) = 209\n",
      "\n",
      "CHECK PASSED\n",
      "\n",
      "=======\n",
      "ROUND 5\n",
      "=======\n",
      "\n",
      "V sends 325, chosen uniformly at random from F, independently of any previous choices, to P.\n",
      "\n",
      "V checks that g_4(325) = g(178, 158, 124, 257, 325):\n",
      "\n",
      "                  g_4(325) = 156\n",
      "g(178, 158, 124, 257, 325) = 156\n",
      "\n",
      "CHECK PASSED\n"
     ]
    }
   ],
   "source": [
    "from sum_check import sum_check_choose_poly\n",
    "\n",
    "univariate, rand_eval, sum_check, rand = sum_check_choose_poly();"
   ]
  },
  {
   "cell_type": "code",
   "execution_count": 5,
   "id": "d16d15d0-bbac-4786-8c4b-5cca4d83d1fb",
   "metadata": {},
   "outputs": [
    {
     "data": {
      "text/plain": [
       "{0: Poly(32*X_0**2 + 4*X_0 + 20, X_0, modulus=331),\n",
       " 1: Poly(62*X_1 - 144, X_1, modulus=331),\n",
       " 2: Poly(-44*X_2 - 117, X_2, modulus=331),\n",
       " 3: Poly(2*X_3 + 26, X_3, modulus=331),\n",
       " 4: Poly(158*X_4**3 - 140, X_4, modulus=331),\n",
       " 5: 156}"
      ]
     },
     "execution_count": 5,
     "metadata": {},
     "output_type": "execute_result"
    }
   ],
   "source": [
    "univariate"
   ]
  },
  {
   "cell_type": "code",
   "execution_count": 6,
   "id": "2e3ff971-a17d-4244-af0b-adf803ab6cd8",
   "metadata": {},
   "outputs": [
    {
     "data": {
      "text/plain": [
       "{0: 105, 1: 53, 2: 54, 3: 209, 4: 156, 5: 156}"
      ]
     },
     "execution_count": 6,
     "metadata": {},
     "output_type": "execute_result"
    }
   ],
   "source": [
    "rand_eval"
   ]
  },
  {
   "cell_type": "code",
   "execution_count": 7,
   "id": "90297616-e418-4ffb-987d-5281e60c42aa",
   "metadata": {},
   "outputs": [
    {
     "data": {
      "text/plain": [
       "{0: 76, 1: 105, 2: 53, 3: 54, 4: 209, 5: 156}"
      ]
     },
     "execution_count": 7,
     "metadata": {},
     "output_type": "execute_result"
    }
   ],
   "source": [
    "sum_check"
   ]
  },
  {
   "cell_type": "code",
   "execution_count": 8,
   "id": "1ac43bd5-8bdc-4345-8b7f-bcfc67e68ed1",
   "metadata": {},
   "outputs": [
    {
     "data": {
      "text/plain": [
       "[SymmetricModularIntegerMod331(178),\n",
       " SymmetricModularIntegerMod331(158),\n",
       " SymmetricModularIntegerMod331(124),\n",
       " SymmetricModularIntegerMod331(257),\n",
       " SymmetricModularIntegerMod331(325)]"
      ]
     },
     "execution_count": 8,
     "metadata": {},
     "output_type": "execute_result"
    }
   ],
   "source": [
    "rand"
   ]
  },
  {
   "cell_type": "code",
   "execution_count": null,
   "id": "75a664be-3586-4a2e-8d75-4b7bb2436c28",
   "metadata": {},
   "outputs": [],
   "source": []
  }
 ],
 "metadata": {
  "kernelspec": {
   "display_name": "Python 3 (ipykernel)",
   "language": "python",
   "name": "python3"
  },
  "language_info": {
   "codemirror_mode": {
    "name": "ipython",
    "version": 3
   },
   "file_extension": ".py",
   "mimetype": "text/x-python",
   "name": "python",
   "nbconvert_exporter": "python",
   "pygments_lexer": "ipython3",
   "version": "3.12.7"
  }
 },
 "nbformat": 4,
 "nbformat_minor": 5
}
